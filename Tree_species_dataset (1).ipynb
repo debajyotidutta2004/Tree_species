{
  "nbformat": 4,
  "nbformat_minor": 0,
  "metadata": {
    "colab": {
      "provenance": []
    },
    "kernelspec": {
      "name": "python3",
      "display_name": "Python 3"
    },
    "language_info": {
      "name": "python"
    }
  },
  "cells": [
    {
      "cell_type": "code",
      "execution_count": 12,
      "metadata": {
        "colab": {
          "base_uri": "https://localhost:8080/"
        },
        "id": "tuUOXvsYgT4Z",
        "outputId": "4c904bc4-2faa-48f6-d7b7-8e92895393ba"
      },
      "outputs": [
        {
          "output_type": "stream",
          "name": "stdout",
          "text": [
            "Drive already mounted at /content/drive; to attempt to forcibly remount, call drive.mount(\"/content/drive\", force_remount=True).\n"
          ]
        }
      ],
      "source": [
        "from google.colab import drive\n",
        "drive.mount('/content/drive')"
      ]
    },
    {
      "cell_type": "code",
      "source": [
        "from pathlib import Path"
      ],
      "metadata": {
        "id": "8fGByAPthEO6"
      },
      "execution_count": 16,
      "outputs": []
    },
    {
      "cell_type": "code",
      "source": [
        "path = Path(\"/content/drive/MyDrive/Tree_Species_Dataset\")\n",
        "\n"
      ],
      "metadata": {
        "id": "0E1_hQLih1oJ"
      },
      "execution_count": 17,
      "outputs": []
    },
    {
      "cell_type": "code",
      "source": [
        "print(path)"
      ],
      "metadata": {
        "id": "7ZRL9tath68M",
        "colab": {
          "base_uri": "https://localhost:8080/"
        },
        "outputId": "81061e99-496e-4f2f-92c4-19accb16a490"
      },
      "execution_count": 18,
      "outputs": [
        {
          "output_type": "stream",
          "name": "stdout",
          "text": [
            "/content/drive/MyDrive/Tree_Species_Dataset\n"
          ]
        }
      ]
    },
    {
      "cell_type": "code",
      "source": [],
      "metadata": {
        "id": "Y0B9pMnsnUwL"
      },
      "execution_count": null,
      "outputs": []
    }
  ]
}